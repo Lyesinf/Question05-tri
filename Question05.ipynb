{
 "cells": [
  {
   "cell_type": "code",
   "execution_count": null,
   "id": "7ce6e612",
   "metadata": {},
   "outputs": [],
   "source": [
    "list = [('item1', '12.20'), ('item2', '15.10'), ('item3', '24.5')]\n",
    "\n",
    "print( sorted(list, key=lambda x: float(x[1]), reverse=True))\n",
    "\n",
    "print('');print('ou :')\n",
    "\n",
    "def tri(position):\n",
    "    return position[1]\n",
    "\n",
    "sorted(list, key=tri,reverse=True)"
   ]
  }
 ],
 "metadata": {
  "kernelspec": {
   "display_name": "Python 3 (ipykernel)",
   "language": "python",
   "name": "python3"
  },
  "language_info": {
   "codemirror_mode": {
    "name": "ipython",
    "version": 3
   },
   "file_extension": ".py",
   "mimetype": "text/x-python",
   "name": "python",
   "nbconvert_exporter": "python",
   "pygments_lexer": "ipython3",
   "version": "3.9.7"
  }
 },
 "nbformat": 4,
 "nbformat_minor": 5
}
